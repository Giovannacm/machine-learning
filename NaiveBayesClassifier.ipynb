{
  "nbformat": 4,
  "nbformat_minor": 0,
  "metadata": {
    "colab": {
      "provenance": [],
      "collapsed_sections": [],
      "authorship_tag": "ABX9TyNvJPAfO/lkvBmRee7Ep+aN",
      "include_colab_link": true
    },
    "kernelspec": {
      "name": "python3",
      "display_name": "Python 3"
    },
    "language_info": {
      "name": "python"
    }
  },
  "cells": [
    {
      "cell_type": "markdown",
      "metadata": {
        "id": "view-in-github",
        "colab_type": "text"
      },
      "source": [
        "<a href=\"https://colab.research.google.com/github/Giovannacm/machine-learning/blob/main/NaiveBayesClassifier.ipynb\" target=\"_parent\"><img src=\"https://colab.research.google.com/assets/colab-badge.svg\" alt=\"Open In Colab\"/></a>"
      ]
    },
    {
      "cell_type": "code",
      "execution_count": 1,
      "metadata": {
        "id": "xoWY2JIlGI3_"
      },
      "outputs": [],
      "source": [
        "import numpy as np\n",
        "from sklearn.metrics import accuracy_score\n",
        "from sklearn.model_selection import train_test_split\n",
        "from sklearn import datasets"
      ]
    },
    {
      "cell_type": "code",
      "source": [
        "class NaiveBayes:\n",
        "  def fit(self, X, y):\n",
        "    self.n_samples, self.n_features = X.shape\n",
        "    self.n_classes = len(np.unique(y))\n",
        "\n",
        "    self.mean = np.zeros((self.n_classes, self.n_features))\n",
        "    self.variance = np.zeros((self.n_classes, self.n_features))\n",
        "    self.priors = np.zeros(self.n_classes)\n",
        "\n",
        "    for c in range(self.n_classes):\n",
        "      X_c = X[y == c]\n",
        "\n",
        "      self.mean[c, :] = np.mean(X_c, axis=0)\n",
        "      self.variance[c, :] = np.var(X_c, axis=0)\n",
        "      self.priors[c] = X_c.shape[0] / self.n_samples\n",
        "\n",
        "  def predict(self, X):\n",
        "    y_hat = [self.get_class_probability(x) for x in X]\n",
        "    return np.array(y_hat)\n",
        "\n",
        "  def get_class_probability(self, x):\n",
        "    posteriors = list()\n",
        "\n",
        "    for c in range(self.n_classes):\n",
        "      mean = self.mean[c]\n",
        "      variance = self.variance[c]\n",
        "      prior = np.log(self.priors[c])\n",
        "\n",
        "      posterior = np.sum(np.log(self.gaussian_density(x, mean, variance)))\n",
        "      posterior = prior + posterior\n",
        "      posteriors.append(posterior)\n",
        "\n",
        "    return np.argmax(posteriors)\n",
        "\n",
        "  def gaussian_density(self, x, mean, var):\n",
        "    const = 1 / np.sqrt(var * 2 * np.pi)\n",
        "    proba = np.exp(-0.5 * ((x - mean) ** 2 / var))\n",
        "\n",
        "    return const * proba"
      ],
      "metadata": {
        "id": "yNFwYWcG8EVK"
      },
      "execution_count": 2,
      "outputs": []
    },
    {
      "cell_type": "code",
      "source": [
        "iris = datasets.load_iris()\n",
        "X = iris.data\n",
        "y = iris.target"
      ],
      "metadata": {
        "id": "wBH01TWJ9U62"
      },
      "execution_count": 3,
      "outputs": []
    },
    {
      "cell_type": "code",
      "source": [
        "X_train, X_test, y_train, y_test = train_test_split(X, y, test_size=0.2, random_state=1)"
      ],
      "metadata": {
        "id": "gYPfnbn79XA7"
      },
      "execution_count": 4,
      "outputs": []
    },
    {
      "cell_type": "code",
      "source": [
        "nb = NaiveBayes()\n",
        "nb.fit(X_train, y_train)\n",
        "predictions = nb.predict(X_test)\n",
        "\n",
        "print('Acuracia:', accuracy_score(y_test, predictions))"
      ],
      "metadata": {
        "colab": {
          "base_uri": "https://localhost:8080/"
        },
        "id": "9kVhWCpc9ECB",
        "outputId": "ee8afe7f-e0a8-424e-9a2d-7089e4104465"
      },
      "execution_count": 5,
      "outputs": [
        {
          "output_type": "stream",
          "name": "stdout",
          "text": [
            "Acuracia: 0.9666666666666667\n"
          ]
        }
      ]
    },
    {
      "cell_type": "markdown",
      "source": [
        "References: \n",
        "\n",
        "- https://medium.com/@rangavamsi5/na%C3%AFve-bayes-algorithm-implementation-from-scratch-in-python-7b2cc39268b9\n",
        "\n",
        "- https://towardsdatascience.com/implementing-naive-bayes-from-scratch-df5572e042ac"
      ],
      "metadata": {
        "id": "gHDuBxe7NLeG"
      }
    }
  ]
}