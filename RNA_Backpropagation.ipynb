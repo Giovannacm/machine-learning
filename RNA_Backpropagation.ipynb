{
  "nbformat": 4,
  "nbformat_minor": 0,
  "metadata": {
    "colab": {
      "provenance": [],
      "collapsed_sections": [],
      "authorship_tag": "ABX9TyMwXMvEVPmyalIa82p3hnoc",
      "include_colab_link": true
    },
    "kernelspec": {
      "name": "python3",
      "display_name": "Python 3"
    },
    "language_info": {
      "name": "python"
    }
  },
  "cells": [
    {
      "cell_type": "markdown",
      "metadata": {
        "id": "view-in-github",
        "colab_type": "text"
      },
      "source": [
        "<a href=\"https://colab.research.google.com/github/Giovannacm/machine-learning/blob/main/RNA_Backpropagation.ipynb\" target=\"_parent\"><img src=\"https://colab.research.google.com/assets/colab-badge.svg\" alt=\"Open In Colab\"/></a>"
      ]
    },
    {
      "cell_type": "code",
      "execution_count": 1,
      "metadata": {
        "id": "Ksz8zV6v_g-y"
      },
      "outputs": [],
      "source": [
        "import numpy as np\n",
        "import math\n",
        "import matplotlib.pyplot as plt\n",
        "from sklearn.metrics import mean_squared_error\n",
        "from sklearn.model_selection import train_test_split\n",
        "from sklearn import datasets"
      ]
    },
    {
      "cell_type": "code",
      "source": [
        "def mediaGeometrica(x, y):\n",
        "\treturn int(math.sqrt(x * y))\n",
        "\n",
        "def logistica(x):\n",
        "  return 1 / (1 + math.exp(-x))\n",
        "\n",
        "def dLogisticaDx(x):\n",
        "    return math.exp(-x) / ((1 + math.exp(-x))*(1 + math.exp(-x)))"
      ],
      "metadata": {
        "id": "V1C95McSCiU3"
      },
      "execution_count": 2,
      "outputs": []
    },
    {
      "cell_type": "code",
      "source": [
        "class MLP:\n",
        "    \n",
        "    def __init__(self, taxaAprendizado, pesoInicial, quantidadeClasses, quantidadeNeuroniosCamadaEntrada, quantidadeNeuroniosCamadaOculta, quantidadeNeuroniosCamadaSaida):\n",
        "      self.taxaAprendizado = taxaAprendizado\n",
        "      self.quantidadeNeuroniosCamadaEntrada = quantidadeNeuroniosCamadaEntrada\n",
        "      self.quantidadeNeuroniosCamadaOculta = quantidadeNeuroniosCamadaOculta\n",
        "      self.quantidadeNeuroniosCamadaSaida = quantidadeNeuroniosCamadaSaida\n",
        "      self.quantidadeClasses = quantidadeClasses\n",
        "      self.pesosCamadaOculta = np.random.uniform(pesoInicial[0], pesoInicial[1], (quantidadeNeuroniosCamadaOculta, quantidadeNeuroniosCamadaEntrada))\n",
        "      self.pesosCamadaSaida = np.random.uniform(pesoInicial[0], pesoInicial[1], (quantidadeNeuroniosCamadaSaida, quantidadeNeuroniosCamadaOculta))\n",
        "      self.netCamadaOculta = np.zeros(quantidadeNeuroniosCamadaOculta)\n",
        "      self.netCamadaSaida = np.zeros(quantidadeNeuroniosCamadaSaida)\n",
        "      self.saidaCamadaOculta = np.zeros(quantidadeNeuroniosCamadaOculta)\n",
        "      self.saidaCamadaSaida = np.zeros(quantidadeNeuroniosCamadaSaida)\n",
        "      self.errosCamadaOculta = np.zeros(quantidadeNeuroniosCamadaOculta)\n",
        "      self.errosCamadaSaida = np.zeros(quantidadeNeuroniosCamadaSaida)\n",
        "      self.dadosTreinamentoRede = []\n",
        "\n",
        "    def calculaNetsCamadaOculta(self, entradas):\n",
        "      self.netCamadaOculta = np.dot(self.pesosCamadaOculta, entradas)\n",
        "\n",
        "    def aplicaFuncaoTransferenciaCamadaOculta(self):\n",
        "      self.saidaCamadaOculta = np.vectorize(logistica)(self.netCamadaOculta)\n",
        "\n",
        "    def calculaNetsCamadaSaida(self, entradas):\n",
        "      self.netCamadaSaida = np.dot(self.pesosCamadaSaida, self.saidaCamadaOculta)\n",
        "\n",
        "    def aplicaFuncaoTransferenciaCamadaSaida(self):\n",
        "      self.saidaCamadaSaida = np.vectorize(logistica)(self.netCamadaSaida)\n",
        "\n",
        "    def calculaErrosCamadaSaida(self, saida):\n",
        "      desejados = [0 for i in range(0, self.quantidadeNeuroniosCamadaSaida)]\n",
        "      desejados[saida-1] = 1\n",
        "      self.errosCamadaSaida = (desejados - self.saidaCamadaSaida) * np.vectorize(dLogisticaDx)(self.netCamadaSaida)\n",
        "\n",
        "    def calculaErrosCamadaOculta(self):\n",
        "      self.errosCamadaOculta = np.vectorize(dLogisticaDx)(self.netCamadaOculta) * np.dot(self.errosCamadaSaida, self.pesosCamadaSaida)\n",
        "\n",
        "    def atualizaPesosCamadaSaida(self):\n",
        "      self.pesosCamadaSaida += self.taxaAprendizado * np.outer(self.errosCamadaSaida, self.saidaCamadaOculta)\n",
        "        \n",
        "    def atualizaPesosCamadaOculta(self, entradas):\n",
        "      self.pesosCamadaOculta += self.taxaAprendizado * np.outer(self.errosCamadaOculta, entradas)\n",
        "\n",
        "    def calculaErroRede(self):\n",
        "      return np.dot(self.errosCamadaSaida, self.errosCamadaSaida) / 2\n",
        "\n",
        "    def treinar(self, entradas, saidas, maxIteracao, minErro, entradasVal, saidasVal, printInfo=True):\n",
        "      iteracao = 0\n",
        "      erro_iteracao = np.inf\n",
        "      continua = True\n",
        "      dadosTreinamento = {'erroRede': [], 'mseTre': [], 'mseVal': []}\n",
        "\n",
        "      while continua: \n",
        "        saidasObtidasTreinamento = []\n",
        "\n",
        "        for i in range(len(entradas)):\n",
        "          self.calculaNetsCamadaOculta(entradas[i])\n",
        "          self.aplicaFuncaoTransferenciaCamadaOculta()\n",
        "          self.calculaNetsCamadaSaida(entradas[i])\n",
        "          self.aplicaFuncaoTransferenciaCamadaSaida()\n",
        "          self.calculaErrosCamadaSaida(saidas[i])\n",
        "          self.calculaErrosCamadaOculta()\n",
        "          self.atualizaPesosCamadaSaida()\n",
        "          self.atualizaPesosCamadaOculta(entradas[i])\n",
        "          saidasObtidasTreinamento.append(self.verificaSaidaObtida())\n",
        "\n",
        "        erro_iteracao = self.calculaErroRede()\n",
        "        \n",
        "        mseTre = mean_squared_error(saidas, saidasObtidasTreinamento, squared=True)\n",
        "        _, saidasObtidasVal = self.teste(entradasVal, saidasVal)\n",
        "        mseVal = mean_squared_error(saidasVal, saidasObtidasVal, squared=True)\n",
        "\n",
        "        dadosTreinamento['erroRede'].append(erro_iteracao)\n",
        "        dadosTreinamento['mseTre'].append(mseTre)\n",
        "        dadosTreinamento['mseVal'].append(mseVal)\n",
        "\n",
        "        if printInfo:\n",
        "          print('\\n-> Iteração:', iteracao, '|', 'Erro da rede:', erro_iteracao)\n",
        "          print('   MSE treinamento:', mseTre, '| MSE validação:', mseVal)\n",
        "\n",
        "        iteracao += 1\n",
        "        if maxIteracao:\n",
        "          continua = True if iteracao < maxIteracao else False\n",
        "        if minErro:\n",
        "          continua = True if erro_iteracao > minErro and continua else False\n",
        "\n",
        "      return dadosTreinamento\n",
        "\n",
        "    def verificaSaidaObtida(self): #Verifica a classe obtida\n",
        "      maior = 0\n",
        "\n",
        "      for i in range(1, self.quantidadeNeuroniosCamadaSaida): #Pegando o primeiro maior\n",
        "        if self.saidaCamadaSaida[i] > self.saidaCamadaSaida[maior]:\n",
        "          maior = i\n",
        "\n",
        "      maior += 1\n",
        "      if maior == self.quantidadeClasses:\n",
        "        maior = 0\n",
        "      return maior\n",
        "\n",
        "    def atualizaMatrizConfusao(self, matrizConfusao, saida): #Alterando os valores obtidos de acordo com a função utilizada e atualizar a matriz de confusão\n",
        "      desejado = saida\n",
        "      maior = self.verificaSaidaObtida()\n",
        "      matrizConfusao[maior][desejado] += 1 #linha: obtido (primeiro maior), coluna: desejado\n",
        "      return maior\n",
        "\n",
        "    def teste(self, entradas, saidas): #Realiza os passos para teste sobre as amostras\n",
        "      matrizConfusao = [[0 for i in range(self.quantidadeClasses)] for j in range(self.quantidadeClasses)]\n",
        "      saidasObtidas = []\n",
        "\n",
        "      for i in range(len(entradas)):\n",
        "        self.calculaNetsCamadaOculta(entradas[i])\n",
        "        self.aplicaFuncaoTransferenciaCamadaOculta()\n",
        "        self.calculaNetsCamadaSaida(entradas[i])\n",
        "        self.aplicaFuncaoTransferenciaCamadaSaida()\n",
        "        pred = self.atualizaMatrizConfusao(matrizConfusao, saidas[i])\n",
        "        saidasObtidas.append(pred)\n",
        "\n",
        "      return matrizConfusao, saidasObtidas"
      ],
      "metadata": {
        "id": "vaM1IZe2L5pZ"
      },
      "execution_count": 3,
      "outputs": []
    },
    {
      "cell_type": "code",
      "source": [
        "def treinarRede(entradas, saidas, entradasVal, saidasVal, taxaAprendizado, pesoInicial, maxIteracao, minErro, printInfo=True):\n",
        "  quantidadeClasses = len(np.unique(saidas))\n",
        "  quantidadeNeuroniosCamadaEntrada = len(entradas[0])\n",
        "  quantidadeNeuroniosCamadaSaida = quantidadeClasses\n",
        "  quantidadeNeuroniosCamadaOculta = mediaGeometrica(quantidadeNeuroniosCamadaEntrada, quantidadeNeuroniosCamadaSaida)\n",
        "\n",
        "  rede = MLP(taxaAprendizado, pesoInicial, quantidadeClasses, quantidadeNeuroniosCamadaEntrada, quantidadeNeuroniosCamadaOculta, quantidadeNeuroniosCamadaSaida)\n",
        "  \n",
        "  dadosTreinamento = rede.treinar(entradas, saidas, maxIteracao, minErro, entradasVal, saidasVal, printInfo)\n",
        "\n",
        "  return rede, dadosTreinamento"
      ],
      "metadata": {
        "id": "9F5Okt4-jo2D"
      },
      "execution_count": 4,
      "outputs": []
    },
    {
      "cell_type": "code",
      "source": [
        "def classificarDados(rede, entradas, saidas):\n",
        "  matrizConfusao, saidasObtidas = rede.teste(entradas, saidas)\n",
        "  mse = mean_squared_error(saidas, saidasObtidas, squared=True)\n",
        "  return matrizConfusao, mse"
      ],
      "metadata": {
        "id": "bu_KIrn4Ofd9"
      },
      "execution_count": 5,
      "outputs": []
    },
    {
      "cell_type": "code",
      "source": [
        "iris = datasets.load_iris()"
      ],
      "metadata": {
        "id": "0Uu1rc7JIpFG"
      },
      "execution_count": 6,
      "outputs": []
    },
    {
      "cell_type": "code",
      "source": [
        "X = iris['data']\n",
        "y = iris['target']"
      ],
      "metadata": {
        "id": "olrecQ4-IwVX"
      },
      "execution_count": 7,
      "outputs": []
    },
    {
      "cell_type": "code",
      "source": [
        "X_train, X_test, y_train, y_test = train_test_split(X, y, test_size=0.3)\n",
        "X_test, X_val, y_test, y_val = train_test_split(X_test, y_test, test_size=0.5)"
      ],
      "metadata": {
        "id": "WDWrBf9dIy4O"
      },
      "execution_count": 8,
      "outputs": []
    },
    {
      "cell_type": "code",
      "source": [
        "rede_iris, dadosTreinamento_iris = treinarRede(X_train, y_train, X_val, y_val, taxaAprendizado=0.01, pesoInicial=(-0.1, 0.1), maxIteracao=1000, minErro=None, printInfo=False)"
      ],
      "metadata": {
        "id": "ZRcyGjhGI3ik"
      },
      "execution_count": 9,
      "outputs": []
    },
    {
      "cell_type": "code",
      "source": [
        "y = dadosTreinamento_iris\n",
        "x = np.arange(0, len(y['erroRede']))\n",
        "\n",
        "plt.plot(x, y['erroRede'], 'r')\n",
        "plt.ylabel(\"Erro da rede\")\n",
        "plt.xlabel(\"Época\")\n",
        "plt.legend()"
      ],
      "metadata": {
        "id": "dL6qGD-NJCtn",
        "colab": {
          "base_uri": "https://localhost:8080/",
          "height": 316
        },
        "outputId": "fbbba69a-76dd-44ed-b74e-456c35baf0df"
      },
      "execution_count": 10,
      "outputs": [
        {
          "output_type": "stream",
          "name": "stderr",
          "text": [
            "WARNING:matplotlib.legend:No handles with labels found to put in legend.\n"
          ]
        },
        {
          "output_type": "execute_result",
          "data": {
            "text/plain": [
              "<matplotlib.legend.Legend at 0x7fa1618487d0>"
            ]
          },
          "metadata": {},
          "execution_count": 10
        },
        {
          "output_type": "display_data",
          "data": {
            "text/plain": [
              "<Figure size 432x288 with 1 Axes>"
            ],
            "image/png": "[encoded data removed]"
          },
          "metadata": {
            "needs_background": "light"
          }
        }
      ]
    },
    {
      "cell_type": "code",
      "source": [
        "y = dadosTreinamento_iris\n",
        "x = np.arange(0, len(y['erroRede']))\n",
        "\n",
        "plt.plot(x, y['mseTre'], 'g-', label='Treinamento')\n",
        "plt.plot(x, y['mseVal'], 'b-', label='Validação')\n",
        "plt.ylabel(\"Erro médio quadrático\")\n",
        "plt.xlabel(\"Época\")\n",
        "plt.legend()"
      ],
      "metadata": {
        "colab": {
          "base_uri": "https://localhost:8080/",
          "height": 298
        },
        "id": "1KITPvVeTR8X",
        "outputId": "b5ae1718-aa93-4d6e-c659-470ebf04404e"
      },
      "execution_count": 11,
      "outputs": [
        {
          "output_type": "execute_result",
          "data": {
            "text/plain": [
              "<matplotlib.legend.Legend at 0x7fa1613b2f10>"
            ]
          },
          "metadata": {},
          "execution_count": 11
        },
        {
          "output_type": "display_data",
          "data": {
            "text/plain": [
              "<Figure size 432x288 with 1 Axes>"
            ],
            "image/png": "[encoded data removed]"
          },
          "metadata": {
            "needs_background": "light"
          }
        }
      ]
    },
    {
      "cell_type": "code",
      "source": [
        "matriz_confusao_iris, mse = classificarDados(rede_iris, X_test, y_test)\n",
        "matriz_confusao_iris"
      ],
      "metadata": {
        "colab": {
          "base_uri": "https://localhost:8080/"
        },
        "id": "bSx_XEzQTUGy",
        "outputId": "822ed2a3-b273-4883-a1e6-7897b6386d99"
      },
      "execution_count": 13,
      "outputs": [
        {
          "output_type": "execute_result",
          "data": {
            "text/plain": [
              "[[8, 0, 0], [0, 8, 0], [0, 0, 6]]"
            ]
          },
          "metadata": {},
          "execution_count": 13
        }
      ]
    },
    {
      "cell_type": "code",
      "source": [
        "mse"
      ],
      "metadata": {
        "colab": {
          "base_uri": "https://localhost:8080/"
        },
        "id": "Np7L9oNqTYzP",
        "outputId": "49d68ec2-a330-4432-c4ea-665664957c7f"
      },
      "execution_count": 14,
      "outputs": [
        {
          "output_type": "execute_result",
          "data": {
            "text/plain": [
              "0.0"
            ]
          },
          "metadata": {},
          "execution_count": 14
        }
      ]
    }
  ]
}