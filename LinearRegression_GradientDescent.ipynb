{
  "nbformat": 4,
  "nbformat_minor": 0,
  "metadata": {
    "colab": {
      "provenance": [],
      "collapsed_sections": [
        "eodJ1CHj0CH8",
        "iXgQSNORz4Cq"
      ],
      "authorship_tag": "ABX9TyNHSjZwgnHfM4pzESUX1rPe",
      "include_colab_link": true
    },
    "kernelspec": {
      "name": "python3",
      "display_name": "Python 3"
    },
    "language_info": {
      "name": "python"
    }
  },
  "cells": [
    {
      "cell_type": "markdown",
      "metadata": {
        "id": "view-in-github",
        "colab_type": "text"
      },
      "source": [
        "<a href=\"https://colab.research.google.com/github/Giovannacm/machine-learning/blob/main/LinearRegression_GradientDescent.ipynb\" target=\"_parent\"><img src=\"https://colab.research.google.com/assets/colab-badge.svg\" alt=\"Open In Colab\"/></a>"
      ]
    },
    {
      "cell_type": "code",
      "execution_count": 1,
      "metadata": {
        "id": "0JIs0WlRGxCG"
      },
      "outputs": [],
      "source": [
        "import numpy as np\n",
        "import matplotlib.pyplot as plt\n",
        "from sklearn.linear_model import LinearRegression"
      ]
    },
    {
      "cell_type": "code",
      "source": [
        "def cost(y_true, y_predicted):\n",
        "  cost = np.sum(np.square(y_predicted - y_true)) / (2 * len(y_true))\n",
        "  return cost"
      ],
      "metadata": {
        "id": "h27LsqOLDFXl"
      },
      "execution_count": 2,
      "outputs": []
    },
    {
      "cell_type": "code",
      "source": [
        "def gradient_descent(X, y, max_iterations=3000, learning_rate=1e-4, stopping_threshold=1e-6):\n",
        "  m, n = X.shape\n",
        "\n",
        "  X = np.c_[np.ones((m, 1)), X]\n",
        "  w = np.random.randn(n + 1, 1)\n",
        "  \n",
        "  previous_cost = None\n",
        "\n",
        "  for iteration in range(max_iterations):\n",
        "    y_predicted = X.dot(w)\n",
        "    \n",
        "    current_cost = cost(y, y_predicted)\n",
        "    if stopping_threshold and previous_cost and abs(previous_cost-current_cost)<=stopping_threshold:\n",
        "      print('stopping_threshold reached in iteration', iteration)\n",
        "      break\n",
        "    previous_cost = current_cost\n",
        "\n",
        "    w = w - learning_rate * X.T.dot(y_predicted - y) / m\n",
        "\n",
        "  return w"
      ],
      "metadata": {
        "id": "BqJdAE5ad64d"
      },
      "execution_count": 3,
      "outputs": []
    },
    {
      "cell_type": "code",
      "source": [
        "X = np.array([[32], [53], [61], [47], [59], [55], [52], [39], [48], [52], [45], [54], [44], [58], [56], [48], [44], [60], [45], [38]])\n",
        "y = np.array([[31], [68], [62], [71], [87], [78], [79], [59], [75], [71], [55], [82], [62], [75], [81], [60], [82], [97], [48], [56]])"
      ],
      "metadata": {
        "id": "1ZKLw9Aycrnv"
      },
      "execution_count": 56,
      "outputs": []
    },
    {
      "cell_type": "code",
      "source": [
        "X = 3*np.random.rand(20, 1)\n",
        "y = 9 + 2*X + np.random.rand(20, 1)"
      ],
      "metadata": {
        "id": "wVfaPFJ_hYc5"
      },
      "execution_count": 29,
      "outputs": []
    },
    {
      "cell_type": "code",
      "source": [
        "estimated_weights = gradient_descent(X, y, max_iterations=5000, learning_rate=1e-2)\n",
        "print(estimated_weights)\n",
        "\n",
        "y_pred = estimated_weights[0, 0] + X.dot(estimated_weights[1:, 0])\n",
        "\n",
        "plt.scatter(X, y)\n",
        "plt.plot([min(X), max(X)], [min(y_pred), max(y_pred)], color='r')\n",
        "plt.xlabel('X')\n",
        "plt.ylabel('y')\n",
        "plt.show()"
      ],
      "metadata": {
        "colab": {
          "base_uri": "https://localhost:8080/",
          "height": 331
        },
        "id": "HAzoz62bZEDY",
        "outputId": "6f353323-7a23-46e0-e461-fecb984f6929"
      },
      "execution_count": 30,
      "outputs": [
        {
          "output_type": "stream",
          "name": "stdout",
          "text": [
            "stopping_threshold reached in iteration 2604\n",
            "[[9.42015814]\n",
            " [2.07472354]]\n"
          ]
        },
        {
          "output_type": "display_data",
          "data": {
            "text/plain": [
              "<Figure size 432x288 with 1 Axes>"
            ],
            "image/png": "[encoded data removed]"
          },
          "metadata": {
            "needs_background": "light"
          }
        }
      ]
    },
    {
      "cell_type": "markdown",
      "source": [
        "Teste com biblioteca"
      ],
      "metadata": {
        "id": "iXgQSNORz4Cq"
      }
    },
    {
      "cell_type": "code",
      "source": [
        "reg = LinearRegression().fit(X, y)\n",
        "print('score', reg.score(X, y))\n",
        "print('weights', reg.coef_, 'bias:', reg.intercept_ )\n",
        "\n",
        "y_pred = reg.predict(X)\n",
        "\n",
        "plt.scatter(X, y)\n",
        "plt.plot([min(X), max(X)], [min(y_pred), max(y_pred)], color='r')\n",
        "plt.xlabel('X')\n",
        "plt.ylabel('y')\n",
        "plt.show()"
      ],
      "metadata": {
        "colab": {
          "base_uri": "https://localhost:8080/",
          "height": 314
        },
        "id": "pwD0P3CbwDQa",
        "outputId": "954a45b5-33e6-4a61-c7b8-9818cafe2992"
      },
      "execution_count": 31,
      "outputs": [
        {
          "output_type": "stream",
          "name": "stdout",
          "text": [
            "score 0.9785510843392533\n",
            "weights [[2.04981396]] bias: [9.46475128]\n"
          ]
        },
        {
          "output_type": "display_data",
          "data": {
            "text/plain": [
              "<Figure size 432x288 with 1 Axes>"
            ],
            "image/png": "[encoded data removed]"
          },
          "metadata": {
            "needs_background": "light"
          }
        }
      ]
    },
    {
      "cell_type": "code",
      "source": [],
      "metadata": {
        "id": "kgczLoNl2Xl5"
      },
      "execution_count": null,
      "outputs": []
    }
  ]
}