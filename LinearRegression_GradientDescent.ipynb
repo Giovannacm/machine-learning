{
  "nbformat": 4,
  "nbformat_minor": 0,
  "metadata": {
    "colab": {
      "provenance": [],
      "collapsed_sections": [
        "eodJ1CHj0CH8",
        "iXgQSNORz4Cq"
      ],
      "authorship_tag": "ABX9TyNeGnpn32Iuk9ixrqFKav4q",
      "include_colab_link": true
    },
    "kernelspec": {
      "name": "python3",
      "display_name": "Python 3"
    },
    "language_info": {
      "name": "python"
    }
  },
  "cells": [
    {
      "cell_type": "markdown",
      "metadata": {
        "id": "view-in-github",
        "colab_type": "text"
      },
      "source": [
        "<a href=\"https://colab.research.google.com/github/Giovannacm/machine-learning/blob/main/LinearRegression_GradientDescent.ipynb\" target=\"_parent\"><img src=\"https://colab.research.google.com/assets/colab-badge.svg\" alt=\"Open In Colab\"/></a>"
      ]
    },
    {
      "cell_type": "code",
      "execution_count": 1,
      "metadata": {
        "id": "0JIs0WlRGxCG"
      },
      "outputs": [],
      "source": [
        "import numpy as np\n",
        "import matplotlib.pyplot as plt\n",
        "from mpl_toolkits import mplot3d\n",
        "from sklearn.linear_model import LinearRegression"
      ]
    },
    {
      "cell_type": "code",
      "source": [
        "def mse(y_true, y_predicted): #loss/cost\n",
        "  cost = np.sum((y_predicted - y_true)**2) / (2 * len(y_true))\n",
        "  return cost"
      ],
      "metadata": {
        "id": "h27LsqOLDFXl"
      },
      "execution_count": 2,
      "outputs": []
    },
    {
      "cell_type": "markdown",
      "source": [
        "# Imprementação para um atributo"
      ],
      "metadata": {
        "id": "eodJ1CHj0CH8"
      }
    },
    {
      "cell_type": "code",
      "source": [
        "def gradient_descent(X, y, max_iterations=1000, learning_rate=1e-4, stopping_threshold=1e-6):\n",
        "  w1 = 0.1\n",
        "  w0 = 0.01\n",
        "  m = len(X)\n",
        "\n",
        "  previous_cost = None\n",
        "\n",
        "  for iteration in range(max_iterations):\n",
        "    y_predicted = w0 + (w1 * X)\n",
        "\n",
        "    current_cost = mse(y, y_predicted)\n",
        "    if previous_cost and abs(previous_cost-current_cost)<=stopping_threshold:\n",
        "      break\n",
        "    previous_cost = current_cost\n",
        "\n",
        "    weight_derivative = sum((y_predicted - y) * X) / m\n",
        "    bias_derivative = sum(y_predicted - y) / m\n",
        "\n",
        "    w1 = w1 - learning_rate * weight_derivative\n",
        "    w0 = w0 - learning_rate * bias_derivative\n",
        "\n",
        "  return w1, w0"
      ],
      "metadata": {
        "id": "NsrTjQNKw63B"
      },
      "execution_count": 3,
      "outputs": []
    },
    {
      "cell_type": "code",
      "source": [
        "X = np.array([32, 53, 61, 47, 59, 55, 52, 39, 48, 52, 45, 54, 44, 58, 56, 48, 44, 60, 45, 38])\n",
        "y = np.array([31, 68, 62, 71, 87, 78, 79, 59, 75, 71, 55, 82, 62, 75, 81, 60, 82, 97, 48, 56])"
      ],
      "metadata": {
        "id": "1ZKLw9Aycrnv"
      },
      "execution_count": 5,
      "outputs": []
    },
    {
      "cell_type": "code",
      "source": [
        "estimated_weight, eatimated_bias = gradient_descent(X, y, max_iterations=2000)\n",
        "print(f\"Estimated Weight: {estimated_weight}\\nEstimated Bias: {eatimated_bias}\")\n",
        "\n",
        "Y_pred = estimated_weight*X + eatimated_bias\n",
        "\n",
        "plt.scatter(X, y, marker='o', color='red')\n",
        "plt.plot([min(X), max(X)], [min(Y_pred), max(Y_pred)], color='blue', linestyle='dashed')\n",
        "plt.xlabel(\"x\")\n",
        "plt.ylabel(\"y\")\n",
        "plt.show()"
      ],
      "metadata": {
        "colab": {
          "base_uri": "https://localhost:8080/",
          "height": 317
        },
        "id": "VNmxI9AqDJK3",
        "outputId": "5d20854a-9005-4498-f3cd-e1c8c9f91cd3"
      },
      "execution_count": 5,
      "outputs": [
        {
          "output_type": "stream",
          "name": "stdout",
          "text": [
            "Estimated Weight: 1.3930799068810311\n",
            "Estimated Bias: 0.03534049078827478\n"
          ]
        },
        {
          "output_type": "display_data",
          "data": {
            "text/plain": [
              "<Figure size 432x288 with 1 Axes>"
            ],
            "image/png": "[encoded data removed]"
          },
          "metadata": {
            "needs_background": "light"
          }
        }
      ]
    },
    {
      "cell_type": "markdown",
      "source": [
        "# Implementação para múltiplos atributos"
      ],
      "metadata": {
        "id": "gpvJnlpBz74q"
      }
    },
    {
      "cell_type": "code",
      "source": [
        "def gradient_descent2(X, y, max_iterations=1000, learning_rate=1e-4, stopping_threshold=1e-6):\n",
        "  n = X.ndim\n",
        "  m = len(X)\n",
        "\n",
        "  X = np.c_[np.ones((m, 1)), X]\n",
        "  w = np.array([[0.1], [0.01]])\n",
        "\n",
        "  previous_cost = None\n",
        "\n",
        "  for iteration in range(max_iterations):\n",
        "    y_predicted = np.dot(X, w).reshape(m)\n",
        "\n",
        "    current_cost = mse(y, y_predicted)\n",
        "    if previous_cost and abs(previous_cost-current_cost)<=stopping_threshold:\n",
        "      break\n",
        "    previous_cost = current_cost\n",
        "\n",
        "    w_new = w.reshape(n+1) - learning_rate * np.dot(X.T, (y_predicted - y)) / m\n",
        "    w = w_new\n",
        "\n",
        "  return w"
      ],
      "metadata": {
        "id": "BqJdAE5ad64d"
      },
      "execution_count": 3,
      "outputs": []
    },
    {
      "cell_type": "code",
      "source": [
        "estimated_weights = gradient_descent2(X, y, max_iterations=2000)\n",
        "print(f\"Estimated Weight: {estimated_weights}\")\n",
        "\n",
        "Y_pred = estimated_weights[1]*X + estimated_weights[0]\n",
        "\n",
        "plt.scatter(X, y, marker='o', color='red')\n",
        "plt.plot([min(X), max(X)], [min(Y_pred), max(Y_pred)], color='blue', linestyle='dashed')\n",
        "plt.xlabel(\"x\")\n",
        "plt.ylabel(\"y\")\n",
        "plt.show()"
      ],
      "metadata": {
        "colab": {
          "base_uri": "https://localhost:8080/",
          "height": 299
        },
        "id": "2ED_f2-ZCxUv",
        "outputId": "31721d0b-9e0e-445e-ad12-b676994aa337"
      },
      "execution_count": 6,
      "outputs": [
        {
          "output_type": "stream",
          "name": "stdout",
          "text": [
            "Estimated Weight: [0.12707189 1.39126892]\n"
          ]
        },
        {
          "output_type": "display_data",
          "data": {
            "text/plain": [
              "<Figure size 432x288 with 1 Axes>"
            ],
            "image/png": "[encoded data removed]"
          },
          "metadata": {
            "needs_background": "light"
          }
        }
      ]
    },
    {
      "cell_type": "markdown",
      "source": [
        "# Teste com biblioteca"
      ],
      "metadata": {
        "id": "iXgQSNORz4Cq"
      }
    },
    {
      "cell_type": "code",
      "source": [
        "reg = LinearRegression().fit(X, y)\n",
        "reg.score(X, y)"
      ],
      "metadata": {
        "colab": {
          "base_uri": "https://localhost:8080/"
        },
        "id": "H8kK1fTWwb1Z",
        "outputId": "9bd5334a-a965-49f3-b04c-4d76834a7a92"
      },
      "execution_count": 11,
      "outputs": [
        {
          "output_type": "execute_result",
          "data": {
            "text/plain": [
              "0.8079250570768535"
            ]
          },
          "metadata": {},
          "execution_count": 11
        }
      ]
    },
    {
      "cell_type": "code",
      "source": [
        "reg.coef_"
      ],
      "metadata": {
        "colab": {
          "base_uri": "https://localhost:8080/"
        },
        "id": "uN6OQmSNwau5",
        "outputId": "2892ac0a-c460-444c-886f-f71819f90ca8"
      },
      "execution_count": 12,
      "outputs": [
        {
          "output_type": "execute_result",
          "data": {
            "text/plain": [
              "array([[ 3.63164784, -0.69363426],\n",
              "       [ 0.63164784,  2.30636574]])"
            ]
          },
          "metadata": {},
          "execution_count": 12
        }
      ]
    },
    {
      "cell_type": "code",
      "source": [
        "reg.intercept_"
      ],
      "metadata": {
        "colab": {
          "base_uri": "https://localhost:8080/"
        },
        "id": "lCIrKzkswhW5",
        "outputId": "f9fedc9d-efee-4a4b-88bb-9e4998991157"
      },
      "execution_count": 13,
      "outputs": [
        {
          "output_type": "execute_result",
          "data": {
            "text/plain": [
              "array([4.04438931, 4.04438931])"
            ]
          },
          "metadata": {},
          "execution_count": 13
        }
      ]
    },
    {
      "cell_type": "code",
      "source": [
        "reg.predict(np.array([[3, 5]]))"
      ],
      "metadata": {
        "colab": {
          "base_uri": "https://localhost:8080/"
        },
        "id": "bJWCTNZ2wj5q",
        "outputId": "3121aee2-21cf-48d2-f3fc-6dba47c6e266"
      },
      "execution_count": 14,
      "outputs": [
        {
          "output_type": "execute_result",
          "data": {
            "text/plain": [
              "array([[11.47116152, 17.47116152]])"
            ]
          },
          "metadata": {},
          "execution_count": 14
        }
      ]
    }
  ]
}