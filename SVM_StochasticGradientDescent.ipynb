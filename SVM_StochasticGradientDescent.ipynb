{
  "nbformat": 4,
  "nbformat_minor": 0,
  "metadata": {
    "colab": {
      "provenance": [],
      "collapsed_sections": [],
      "authorship_tag": "ABX9TyO9ok9FV1/mQgj3a8IYMZdT",
      "include_colab_link": true
    },
    "kernelspec": {
      "name": "python3",
      "display_name": "Python 3"
    },
    "language_info": {
      "name": "python"
    }
  },
  "cells": [
    {
      "cell_type": "markdown",
      "metadata": {
        "id": "view-in-github",
        "colab_type": "text"
      },
      "source": [
        "<a href=\"https://colab.research.google.com/github/Giovannacm/machine-learning/blob/main/SVM_StochasticGradientDescent.ipynb\" target=\"_parent\"><img src=\"https://colab.research.google.com/assets/colab-badge.svg\" alt=\"Open In Colab\"/></a>"
      ]
    },
    {
      "cell_type": "code",
      "source": [
        "import numpy as np\n",
        "import pandas as pd\n",
        "import statsmodels.api as sm\n",
        "from sklearn.utils import shuffle\n",
        "from sklearn.preprocessing import MinMaxScaler\n",
        "from sklearn.model_selection import train_test_split\n",
        "from sklearn.metrics import accuracy_score, recall_score, precision_score"
      ],
      "metadata": {
        "id": "cd_JsCIgKY6G"
      },
      "execution_count": 1,
      "outputs": []
    },
    {
      "cell_type": "code",
      "source": [
        "# Remove colunas que possuem similaridade maior que um dado limiar de similaridade\n",
        "# A remoção das colunas muito relacionadas implica em uma velocidade de aprendizagem melhor\n",
        "# O cálculo da similaridade é com base na correlação entre as colunas\n",
        "def remove_correlated_features(X):\n",
        "    corr_threshold = 0.9\n",
        "    corr = X.corr()\n",
        "    drop_columns = np.full(corr.shape[0], False, dtype=bool)\n",
        "    for i in range(corr.shape[0]):\n",
        "        for j in range(i + 1, corr.shape[0]):\n",
        "            if corr.iloc[i, j] >= corr_threshold:\n",
        "                drop_columns[j] = True\n",
        "    columns_dropped = X.columns[drop_columns]\n",
        "    X.drop(columns_dropped, axis=1, inplace=True)\n",
        "    return columns_dropped"
      ],
      "metadata": {
        "id": "nonRGC2lDiBH"
      },
      "execution_count": 2,
      "outputs": []
    },
    {
      "cell_type": "code",
      "source": [
        "# Remove colunas menos significantes com base em p-values e backward elimination\n",
        "# Se a coluna tiver um p-value maior que um limiar, ela será descartada pois tem menos significância para explicar a variação\n",
        "def remove_less_significant_features(X, Y):\n",
        "    sl = 0.05\n",
        "    regression_ols = None\n",
        "    columns_dropped = np.array([])\n",
        "    for itr in range(0, len(X.columns)):\n",
        "        regression_ols = sm.OLS(Y, X).fit()\n",
        "        max_col = regression_ols.pvalues.idxmax()\n",
        "        max_val = regression_ols.pvalues.max()\n",
        "        if max_val > sl:\n",
        "            X.drop(max_col, axis='columns', inplace=True)\n",
        "            columns_dropped = np.append(columns_dropped, [max_col])\n",
        "        else:\n",
        "            break\n",
        "    regression_ols.summary()\n",
        "    return columns_dropped"
      ],
      "metadata": {
        "id": "TXc1rwFRDjXg"
      },
      "execution_count": 3,
      "outputs": []
    },
    {
      "cell_type": "code",
      "source": [
        "# Calculando a função de custo\n",
        "def compute_cost(W, X, Y, regularization_strength):\n",
        "    N = X.shape[0]\n",
        "    distances = 1 - Y * (np.dot(X, W))\n",
        "    distances[distances < 0] = 0 \n",
        "    hinge_loss = regularization_strength * (np.sum(distances) / N)\n",
        "    cost = 1 / 2 * np.dot(W, W) + hinge_loss\n",
        "    return cost"
      ],
      "metadata": {
        "id": "hj-xj779DmQ_"
      },
      "execution_count": 4,
      "outputs": []
    },
    {
      "cell_type": "code",
      "source": [
        "# Calculando o gradiente da função de custo\n",
        "def calculate_cost_gradient(W, X_batch, Y_batch, regularization_strength):\n",
        "    if type(Y_batch) == np.float64: # Caso um exemplo seja passado (no caso do SGD)\n",
        "        Y_batch = np.array([Y_batch])\n",
        "        X_batch = np.array([X_batch]) \n",
        "\n",
        "    distance = 1 - (Y_batch * np.dot(X_batch, W))\n",
        "    dw = np.zeros(len(W))\n",
        "\n",
        "    for ind, d in enumerate(distance):\n",
        "        if max(0, d) == 0:\n",
        "            di = W\n",
        "        else:\n",
        "            di = W - (regularization_strength * Y_batch[ind] * X_batch[ind])\n",
        "        dw += di\n",
        "\n",
        "    dw = dw/len(Y_batch)  # Média\n",
        "    return dw"
      ],
      "metadata": {
        "id": "tbkccrDcDq6g"
      },
      "execution_count": 5,
      "outputs": []
    },
    {
      "cell_type": "code",
      "source": [
        "# Função de treinamento usando Stochastic Gradient Descent\n",
        "def sgd(features, outputs, learning_rate, regularization_strength):\n",
        "    max_epochs = 5000\n",
        "    weights = np.zeros(features.shape[1])\n",
        "    nth = 0\n",
        "    prev_cost = float(\"inf\")\n",
        "    cost_threshold = 0.01\n",
        "    \n",
        "    for epoch in range(1, max_epochs):\n",
        "        X, Y = shuffle(features, outputs) # A cada época é feito um embaralhamento das colunas\n",
        "        for ind, x in enumerate(X):\n",
        "            ascent = calculate_cost_gradient(weights, x, Y[ind], regularization_strength)\n",
        "            weights = weights - (learning_rate * ascent)\n",
        "\n",
        "        # A verificacao de convergência será feita nas 2^nth epocas\n",
        "        if epoch == 2 ** nth or epoch == max_epochs - 1:\n",
        "            cost = compute_cost(weights, features, outputs, regularization_strength)\n",
        "            print(\"Epoca:\", epoch, \"| Custo: \", cost)\n",
        "            # O treinamento é parado quando o custo atual não tiver diminuído muito em comparação com o custo anterior\n",
        "            if abs(prev_cost - cost) < cost_threshold * prev_cost:\n",
        "                return weights\n",
        "            prev_cost = cost\n",
        "            nth += 1\n",
        "    return weights"
      ],
      "metadata": {
        "id": "LDGXVmy9DsQT"
      },
      "execution_count": 6,
      "outputs": []
    },
    {
      "cell_type": "code",
      "execution_count": null,
      "metadata": {
        "id": "fgaC01tD9PqL"
      },
      "outputs": [],
      "source": [
        "! mkdir ~/.kaggle/\n",
        "! cp kaggle.json ~/.kaggle/\n",
        "! chmod 600 ~/.kaggle/kaggle.json\n",
        "! kaggle datasets download 'uciml/breast-cancer-wisconsin-data'\n",
        "! unzip breast-cancer-wisconsin-data.zip"
      ]
    },
    {
      "cell_type": "code",
      "source": [
        "data = pd.read_csv('/content/data.csv')\n",
        "data.drop(data.columns[[-1, 0]], axis=1, inplace=True)"
      ],
      "metadata": {
        "id": "uC8l1bjGRnHO"
      },
      "execution_count": 8,
      "outputs": []
    },
    {
      "cell_type": "code",
      "source": [
        "# Alterando os valores categóricos para inteiros\n",
        "diag_map = {'M': 1.0, 'B': -1.0}\n",
        "data['diagnosis'] = data['diagnosis'].map(diag_map)\n",
        "\n",
        "Y = data.loc[:, 'diagnosis']\n",
        "X = data.iloc[:, 1:]\n",
        "\n",
        "# Selecao de características\n",
        "remove_correlated_features(X)\n",
        "remove_less_significant_features(X, Y)\n",
        "\n",
        "# Nomalizando os dados para uma melhor convergencia e evitar overflow\n",
        "X_normalized = MinMaxScaler().fit_transform(X.values)\n",
        "X = pd.DataFrame(X_normalized)\n",
        "\n",
        "# Inserindo uma nova coluna com valor 1\n",
        "X.insert(loc=len(X.columns), column='intercept', value=1)\n",
        "\n",
        "X_train, X_test, y_train, y_test = train_test_split(X, Y, test_size=0.2, random_state=42)"
      ],
      "metadata": {
        "id": "jP73NmnrRqU5"
      },
      "execution_count": 9,
      "outputs": []
    },
    {
      "cell_type": "code",
      "source": [
        "regularization_strength = 10000\n",
        "learning_rate = 0.000001\n",
        "\n",
        "# Treinamento do modelo\n",
        "W = sgd(X_train.to_numpy(), y_train.to_numpy(), learning_rate, regularization_strength)\n",
        "print('Pesos:', W)"
      ],
      "metadata": {
        "colab": {
          "base_uri": "https://localhost:8080/"
        },
        "id": "sHUlM68oTmqr",
        "outputId": "07583737-f6e8-4ea9-88ee-6bc6c99c2159"
      },
      "execution_count": 10,
      "outputs": [
        {
          "output_type": "stream",
          "name": "stdout",
          "text": [
            "Epoca: 1 | Custo:  7251.523553705103\n",
            "Epoca: 2 | Custo:  6797.95934072895\n",
            "Epoca: 4 | Custo:  5435.661102253089\n",
            "Epoca: 8 | Custo:  3851.183491320182\n",
            "Epoca: 16 | Custo:  2638.2566973821026\n",
            "Epoca: 32 | Custo:  1963.8834812562388\n",
            "Epoca: 64 | Custo:  1587.2701306067388\n",
            "Epoca: 128 | Custo:  1340.6907588181793\n",
            "Epoca: 256 | Custo:  1161.9637173709496\n",
            "Epoca: 512 | Custo:  1076.2486932736542\n",
            "Epoca: 1024 | Custo:  1047.335331708416\n",
            "Epoca: 2048 | Custo:  1044.157552742564\n",
            "Pesos: [ 3.54848437 11.05517057 -2.27044786 -7.89762102 10.14666784 -1.27449024\n",
            " -6.43898788  2.26969891 -3.87758567  3.24104506  4.93641316  4.83938996\n",
            " -4.71481003]\n"
          ]
        }
      ]
    },
    {
      "cell_type": "code",
      "source": [
        "# Testando o modelo\n",
        "y_train_predicted = np.array([])\n",
        "for i in range(X_train.shape[0]):\n",
        "    yp = np.sign(np.dot(X_train.to_numpy()[i], W))\n",
        "    y_train_predicted = np.append(y_train_predicted, yp)\n",
        "\n",
        "y_test_predicted = np.array([])\n",
        "for i in range(X_test.shape[0]):\n",
        "    yp = np.sign(np.dot(X_test.to_numpy()[i], W))\n",
        "    y_test_predicted = np.append(y_test_predicted, yp)"
      ],
      "metadata": {
        "id": "kZH3Q9YMT2va"
      },
      "execution_count": 11,
      "outputs": []
    },
    {
      "cell_type": "code",
      "source": [
        "print(\"Acurácia:\", accuracy_score(y_test, y_test_predicted))\n",
        "print(\"Recall:\", recall_score(y_test, y_test_predicted))\n",
        "print(\"Precisão:\", recall_score(y_test, y_test_predicted))"
      ],
      "metadata": {
        "id": "l6gs-fS4Dyhr",
        "colab": {
          "base_uri": "https://localhost:8080/"
        },
        "outputId": "e22bdbdf-51f0-4b68-e3a1-557132cd53c4"
      },
      "execution_count": 12,
      "outputs": [
        {
          "output_type": "stream",
          "name": "stdout",
          "text": [
            "Acurácia: 0.9912280701754386\n",
            "Recall: 0.9767441860465116\n",
            "Precisão: 0.9767441860465116\n"
          ]
        }
      ]
    },
    {
      "cell_type": "markdown",
      "source": [
        "Reference: https://towardsdatascience.com/svm-implementation-from-scratch-python-2db2fc52e5c2#:~:text=The%20SVM%20(Support%20Vector%20Machine,examples%20(x%E1%B5%A2%2C%20y%E1%B5%A2)."
      ],
      "metadata": {
        "id": "5WjAZ94lAV6r"
      }
    }
  ]
}